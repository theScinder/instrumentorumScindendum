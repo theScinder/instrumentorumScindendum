{
 "cells": [
  {
   "cell_type": "code",
   "execution_count": null,
   "metadata": {
    "collapsed": true
   },
   "outputs": [],
   "source": [
    "# Claidheadh Mor 0.1\n",
    "# Compare various articles with a tSNE dimensional reduction of a \"bag of words\" representation"
   ]
  },
  {
   "cell_type": "code",
   "execution_count": 1,
   "metadata": {
    "collapsed": true
   },
   "outputs": [],
   "source": [
    "# 0. Import necessary packages and define functions for backpropagation and unsupervised learning with RBMs.  \n",
    "\n",
    "# Import numpy, natch\n",
    "import numpy as np\n",
    "# For tic-toc funcitonality\n",
    "import time\n",
    "\n",
    "# Set up plotting\n",
    "import matplotlib\n",
    "import matplotlib.pyplot as plt\n",
    "%matplotlib inline\n",
    "%config InlineBackend.figure_format = 'retina'\n",
    "\n",
    "# For getting websites \n",
    "import urllib.request\n",
    "import urllib\n",
    "from urllib.error import HTTPError\n",
    "\n",
    "from bs4 import BeautifulSoup as bs\n",
    "#help(urllib.request)\n"
   ]
  },
  {
   "cell_type": "code",
   "execution_count": 3,
   "metadata": {
    "collapsed": false
   },
   "outputs": [],
   "source": [
    "\n",
    "import sklearn as sk"
   ]
  },
  {
   "cell_type": "code",
   "execution_count": 9,
   "metadata": {
    "collapsed": true
   },
   "outputs": [],
   "source": [
    "# make an array of web addresses for coverage you want to compare\n",
    "#aLIGO third black hole merger detection\n",
    "myAddys = ['https://www.ligo.caltech.edu/page/press-release-gw170104']\n",
    "myAddys.append('http://www.thehindu.com/sci-tech/science/us-lab-ligo-strikes-again-detects-a-third-gravitational-wave-merger/article18700551.ece')\n",
    "myAddys.append('https://richarddawkins.net/2017/06/ligos-third-detection-hints-at-how-black-hole-binaries-are-born/')\n",
    "myAddys.append('http://www.caltech.edu/news/ligo-detects-gravitational-waves-third-time-78193')\n",
    "myAddys.append('https://phys.org/news/2017-06-gravitational-insight-black-holes.html')\n",
    "myAddys.append('https://www.nytimes.com/2017/06/01/science/black-holes-collision-ligo-gravitational-waves.html')\n",
    "myAddys.append('https://news.northwestern.edu/stories/2017/june/ligo-detects-gravitational-waves-for-third-time/')\n",
    "myAddys.append('https://www.newscientist.com/article/2133353-ligos-third-detection-hints-at-how-black-hole-binaries-are-born/')\n",
    "# CRISPR used for editing human embryos in US\n",
    "myAddys.append('https://www.washingtonpost.com/news/to-your-health/wp/2017/08/02/first-human-embryo-editing-experiment-in-u-s-corrects-gene-for-heart-condition/')\n",
    "myAddys.append('http://news.nationalgeographic.com/2017/08/human-embryos-gene-editing-crispr-us-health-science/')\n",
    "myAddys.append('https://www.geekwire.com/2017/oregon-team-uses-crispr-editing-fix-gene-linked-heart-disease-embryos/')\n",
    "#myAddys.append('https://techcrunch.com/2017/08/02/bravenewcrisprdworld/')\n",
    "myAddys.append('https://www.sciencenews.org/article/crispr-gene-editing-human-embryos')\n",
    "myAddys.append('https://futurism.com/first-u-s-human-embryo-gene-editing-experiment-successfully-corrects-a-heart-condition/')\n",
    "myAddys.append('http://www.nature.com/news/crispr-fixes-disease-gene-in-viable-human-embryos-1.22382')\n",
    "myAddys.append('http://www.medicaldaily.com/crispr-gene-editing-technology-removes-heart-disease-mutation-embryos-420977')\n",
    "\n"
   ]
  },
  {
   "cell_type": "code",
   "execution_count": 10,
   "metadata": {
    "collapsed": false
   },
   "outputs": [
    {
     "name": "stdout",
     "output_type": "stream",
     "text": [
      "https://www.ligo.caltech.edu/page/press-release-gw170104\n",
      "http://www.thehindu.com/sci-tech/science/us-lab-ligo-strikes-again-detects-a-third-gravitational-wave-merger/article18700551.ece\n",
      "https://richarddawkins.net/2017/06/ligos-third-detection-hints-at-how-black-hole-binaries-are-born/\n",
      "http://www.caltech.edu/news/ligo-detects-gravitational-waves-third-time-78193\n",
      "https://phys.org/news/2017-06-gravitational-insight-black-holes.html\n",
      "https://www.nytimes.com/2017/06/01/science/black-holes-collision-ligo-gravitational-waves.html\n",
      "https://news.northwestern.edu/stories/2017/june/ligo-detects-gravitational-waves-for-third-time/\n",
      "https://www.newscientist.com/article/2133353-ligos-third-detection-hints-at-how-black-hole-binaries-are-born/\n",
      "https://www.washingtonpost.com/news/to-your-health/wp/2017/08/02/first-human-embryo-editing-experiment-in-u-s-corrects-gene-for-heart-condition/\n",
      "http://news.nationalgeographic.com/2017/08/human-embryos-gene-editing-crispr-us-health-science/\n",
      "https://www.geekwire.com/2017/oregon-team-uses-crispr-editing-fix-gene-linked-heart-disease-embryos/\n",
      "https://www.sciencenews.org/article/crispr-gene-editing-human-embryos\n",
      "https://futurism.com/first-u-s-human-embryo-gene-editing-experiment-successfully-corrects-a-heart-condition/\n",
      "http://www.nature.com/news/crispr-fixes-disease-gene-in-viable-human-embryos-1.22382\n",
      "http://www.medicaldaily.com/crispr-gene-editing-technology-removes-heart-disease-mutation-embryos-420977\n"
     ]
    }
   ],
   "source": [
    "# Scrape all the text into one big string to build the BOW from\n",
    "myText = ''\n",
    "for addy in myAddys:\n",
    "    print(addy)\n",
    "    #myURL = urllib.request.urlopen(addy)\n",
    "    req = urllib.request.Request(url=addy,headers={'User-Agent':' Mozilla/5.0 (Windows NT 6.1; WOW64; rv:12.0) Gecko/20100101 Firefox/12.0'})\n",
    "    try:\n",
    "        handler = urllib.request.urlopen(req)\n",
    "    except HTTPError as e:\n",
    "        content = e.read()\n",
    "    myURL = handler #urllib.request.urlopen(myAddy)\n",
    "\n",
    "    myTest = myURL.read()\n",
    "    soup = bs(myTest, 'html.parser')\n",
    "    myText = myText + soup.get_text()"
   ]
  },
  {
   "cell_type": "code",
   "execution_count": 11,
   "metadata": {
    "collapsed": false
   },
   "outputs": [
    {
     "name": "stdout",
     "output_type": "stream",
     "text": [
      "8608\n"
     ]
    }
   ],
   "source": [
    "# Create a dictionary bag-of-words for \n",
    "wordcount = {}\n",
    "weirdChar = ['[','{',']','}',':',';','%','/','/','.filename','-','+','=']\n",
    "\n",
    "\n",
    "\n",
    "for word in myText.split():\n",
    "    # Check for weird character\n",
    "    dontAdd = 1\n",
    "    for wChar in weirdChar:\n",
    "        if(word.find(wChar) != -1):\n",
    "            wordcount = wordcount\n",
    "            dontAdd = 0\n",
    "            #print('weird character detected')\n",
    "    # Add word to wordcount dictionary if it seems to be a real weird. \n",
    "    if (dontAdd):\n",
    "        if word not in wordcount:\n",
    "            wordcount[word] = 1\n",
    "        else:\n",
    "            wordcount[word] += 1\n",
    "print(len(wordcount))\n",
    "\n",
    "if(0):\n",
    "    for k, v in wordcount.items():\n",
    "        print(k,v)\n",
    "\n",
    "# Build bag-of-words Dictionary based on the combined job descriptions\n",
    "bowDict = {}\n",
    "for word in wordcount:\n",
    "    bowDict[word] = 0  "
   ]
  },
  {
   "cell_type": "code",
   "execution_count": null,
   "metadata": {
    "collapsed": true
   },
   "outputs": [],
   "source": []
  }
 ],
 "metadata": {
  "anaconda-cloud": {},
  "kernelspec": {
   "display_name": "Python [default]",
   "language": "python",
   "name": "python3"
  },
  "language_info": {
   "codemirror_mode": {
    "name": "ipython",
    "version": 3
   },
   "file_extension": ".py",
   "mimetype": "text/x-python",
   "name": "python",
   "nbconvert_exporter": "python",
   "pygments_lexer": "ipython3",
   "version": "3.5.2"
  }
 },
 "nbformat": 4,
 "nbformat_minor": 1
}
